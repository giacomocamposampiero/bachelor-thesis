{
 "cells": [
  {
   "cell_type": "markdown",
   "id": "8abb4479",
   "metadata": {},
   "source": [
    "# Integer linear programming experiments for vertex cover problems\n",
    "TODO Simple description of the project to add."
   ]
  },
  {
   "cell_type": "markdown",
   "id": "92724860",
   "metadata": {},
   "source": [
    "First of all, import the Python libraries that we will be using for data analysis."
   ]
  },
  {
   "cell_type": "code",
   "execution_count": 5,
   "id": "2ec5a273",
   "metadata": {},
   "outputs": [],
   "source": [
    "import pandas as pd\n",
    "import numpy\n",
    "import pyvis\n",
    "import matplotlib.pyplot as plt"
   ]
  },
  {
   "cell_type": "markdown",
   "id": "63073aea",
   "metadata": {},
   "source": [
    "Then, import the csv file which contains the data extracted for each experiment. The first three rows of the file are displayed in order to show the structure of the file. "
   ]
  },
  {
   "cell_type": "code",
   "execution_count": 24,
   "id": "12963a65",
   "metadata": {},
   "outputs": [
    {
     "data": {
      "text/html": [
       "<div>\n",
       "<style scoped>\n",
       "    .dataframe tbody tr th:only-of-type {\n",
       "        vertical-align: middle;\n",
       "    }\n",
       "\n",
       "    .dataframe tbody tr th {\n",
       "        vertical-align: top;\n",
       "    }\n",
       "\n",
       "    .dataframe thead th {\n",
       "        text-align: right;\n",
       "    }\n",
       "</style>\n",
       "<table border=\"1\" class=\"dataframe\">\n",
       "  <thead>\n",
       "    <tr style=\"text-align: right;\">\n",
       "      <th></th>\n",
       "      <th>name</th>\n",
       "      <th>time</th>\n",
       "      <th>ticks</th>\n",
       "      <th>sol_nodes</th>\n",
       "      <th>gap</th>\n",
       "      <th>time_lim</th>\n",
       "      <th>nodes</th>\n",
       "      <th>edges</th>\n",
       "      <th>cnnct_cmp</th>\n",
       "      <th>avg_clust</th>\n",
       "      <th>std_dev_clust</th>\n",
       "      <th>radius</th>\n",
       "      <th>diameter</th>\n",
       "    </tr>\n",
       "  </thead>\n",
       "  <tbody>\n",
       "    <tr>\n",
       "      <th>0</th>\n",
       "      <td>gnp_000</td>\n",
       "      <td>0.39</td>\n",
       "      <td>99.51</td>\n",
       "      <td>69.0</td>\n",
       "      <td>0.0</td>\n",
       "      <td>False</td>\n",
       "      <td>100</td>\n",
       "      <td>508</td>\n",
       "      <td>1</td>\n",
       "      <td>0.113342</td>\n",
       "      <td>0.053480</td>\n",
       "      <td>3</td>\n",
       "      <td>4</td>\n",
       "    </tr>\n",
       "    <tr>\n",
       "      <th>1</th>\n",
       "      <td>gnp_001</td>\n",
       "      <td>0.45</td>\n",
       "      <td>100.66</td>\n",
       "      <td>68.0</td>\n",
       "      <td>0.0</td>\n",
       "      <td>False</td>\n",
       "      <td>100</td>\n",
       "      <td>484</td>\n",
       "      <td>1</td>\n",
       "      <td>0.097705</td>\n",
       "      <td>0.047745</td>\n",
       "      <td>3</td>\n",
       "      <td>4</td>\n",
       "    </tr>\n",
       "    <tr>\n",
       "      <th>2</th>\n",
       "      <td>gnp_002</td>\n",
       "      <td>0.52</td>\n",
       "      <td>138.64</td>\n",
       "      <td>69.0</td>\n",
       "      <td>0.0</td>\n",
       "      <td>False</td>\n",
       "      <td>100</td>\n",
       "      <td>487</td>\n",
       "      <td>1</td>\n",
       "      <td>0.083568</td>\n",
       "      <td>0.043205</td>\n",
       "      <td>3</td>\n",
       "      <td>4</td>\n",
       "    </tr>\n",
       "  </tbody>\n",
       "</table>\n",
       "</div>"
      ],
      "text/plain": [
       "      name  time   ticks  sol_nodes  gap  time_lim  nodes  edges  cnnct_cmp  \\\n",
       "0  gnp_000  0.39   99.51       69.0  0.0     False    100    508          1   \n",
       "1  gnp_001  0.45  100.66       68.0  0.0     False    100    484          1   \n",
       "2  gnp_002  0.52  138.64       69.0  0.0     False    100    487          1   \n",
       "\n",
       "   avg_clust  std_dev_clust  radius  diameter  \n",
       "0   0.113342       0.053480       3         4  \n",
       "1   0.097705       0.047745       3         4  \n",
       "2   0.083568       0.043205       3         4  "
      ]
     },
     "execution_count": 24,
     "metadata": {},
     "output_type": "execute_result"
    }
   ],
   "source": [
    "data = pd.read_csv('data.csv')\n",
    "data.head(3)"
   ]
  },
  {
   "cell_type": "markdown",
   "id": "ac274bc1",
   "metadata": {},
   "source": [
    "Plot a graph "
   ]
  },
  {
   "cell_type": "code",
   "execution_count": 37,
   "id": "7738f458",
   "metadata": {},
   "outputs": [
    {
     "data": {
      "text/plain": [
       "<AxesSubplot:xlabel='avg_clust', ylabel='time'>"
      ]
     },
     "execution_count": 37,
     "metadata": {},
     "output_type": "execute_result"
    },
    {
     "data": {
      "image/png": "[encoded data removed]",
      "text/plain": [
       "<Figure size 432x288 with 1 Axes>"
      ]
     },
     "metadata": {
      "needs_background": "light"
     },
     "output_type": "display_data"
    }
   ],
   "source": [
    "x = data['avg_clust'].sort_values()\n",
    "y = data['time']\n",
    "data.loc[data['time'].between(0,3) ].plot(kind='scatter', x='avg_clust', y='time')"
   ]
  },
  {
   "cell_type": "code",
   "execution_count": null,
   "id": "e95cebf6",
   "metadata": {},
   "outputs": [],
   "source": []
  }
 ],
 "metadata": {
  "kernelspec": {
   "display_name": "Python 3",
   "language": "python",
   "name": "python3"
  },
  "language_info": {
   "codemirror_mode": {
    "name": "ipython",
    "version": 3
   },
   "file_extension": ".py",
   "mimetype": "text/x-python",
   "name": "python",
   "nbconvert_exporter": "python",
   "pygments_lexer": "ipython3",
   "version": "3.7.10"
  }
 },
 "nbformat": 4,
 "nbformat_minor": 5
}
