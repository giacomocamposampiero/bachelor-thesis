{
 "cells": [
  {
   "cell_type": "markdown",
   "id": "8abb4479",
   "metadata": {},
   "source": [
    "# Integer linear programming experiments for vertex cover problems\n",
    "// TODO Simple description of the project to add."
   ]
  },
  {
   "cell_type": "markdown",
   "id": "92724860",
   "metadata": {},
   "source": [
    "First of all, import the Python libraries used in the process of data analysis."
   ]
  },
  {
   "cell_type": "code",
   "execution_count": 14,
   "id": "2ec5a273",
   "metadata": {},
   "outputs": [],
   "source": [
    "import pandas as pd\n",
    "import numpy\n",
    "import pyvis\n",
    "import matplotlib.pyplot as plt\n",
    "import params as pa\n",
    "from mpl_toolkits import mplot3d"
   ]
  },
  {
   "cell_type": "markdown",
   "id": "63073aea",
   "metadata": {},
   "source": [
    "Import experimental data from the corresponding csv files. The data are splitted over multiple csv file, one for each graph class studied. The first three rows of one of these files are displayed below, to give an idea of the file structure."
   ]
  },
  {
   "cell_type": "code",
   "execution_count": 10,
   "id": "12963a65",
   "metadata": {},
   "outputs": [
    {
     "data": {
      "text/html": [
       "<div>\n",
       "<style scoped>\n",
       "    .dataframe tbody tr th:only-of-type {\n",
       "        vertical-align: middle;\n",
       "    }\n",
       "\n",
       "    .dataframe tbody tr th {\n",
       "        vertical-align: top;\n",
       "    }\n",
       "\n",
       "    .dataframe thead th {\n",
       "        text-align: right;\n",
       "    }\n",
       "</style>\n",
       "<table border=\"1\" class=\"dataframe\">\n",
       "  <thead>\n",
       "    <tr style=\"text-align: right;\">\n",
       "      <th></th>\n",
       "      <th>name</th>\n",
       "      <th>time</th>\n",
       "      <th>ticks</th>\n",
       "      <th>sol_nodes</th>\n",
       "      <th>gap</th>\n",
       "      <th>time_lim</th>\n",
       "      <th>nodes</th>\n",
       "      <th>edges</th>\n",
       "      <th>cnnct_cmp</th>\n",
       "      <th>avg_clust</th>\n",
       "      <th>std_dev_clust</th>\n",
       "      <th>radius</th>\n",
       "      <th>diameter</th>\n",
       "    </tr>\n",
       "  </thead>\n",
       "  <tbody>\n",
       "    <tr>\n",
       "      <th>0</th>\n",
       "      <td>gnp_000</td>\n",
       "      <td>0.39</td>\n",
       "      <td>99.51</td>\n",
       "      <td>69.0</td>\n",
       "      <td>0.0</td>\n",
       "      <td>False</td>\n",
       "      <td>100</td>\n",
       "      <td>508</td>\n",
       "      <td>1</td>\n",
       "      <td>0.113342</td>\n",
       "      <td>0.053480</td>\n",
       "      <td>3</td>\n",
       "      <td>4</td>\n",
       "    </tr>\n",
       "    <tr>\n",
       "      <th>1</th>\n",
       "      <td>gnp_001</td>\n",
       "      <td>0.45</td>\n",
       "      <td>100.66</td>\n",
       "      <td>68.0</td>\n",
       "      <td>0.0</td>\n",
       "      <td>False</td>\n",
       "      <td>100</td>\n",
       "      <td>484</td>\n",
       "      <td>1</td>\n",
       "      <td>0.097705</td>\n",
       "      <td>0.047745</td>\n",
       "      <td>3</td>\n",
       "      <td>4</td>\n",
       "    </tr>\n",
       "    <tr>\n",
       "      <th>2</th>\n",
       "      <td>gnp_002</td>\n",
       "      <td>0.52</td>\n",
       "      <td>138.64</td>\n",
       "      <td>69.0</td>\n",
       "      <td>0.0</td>\n",
       "      <td>False</td>\n",
       "      <td>100</td>\n",
       "      <td>487</td>\n",
       "      <td>1</td>\n",
       "      <td>0.083568</td>\n",
       "      <td>0.043205</td>\n",
       "      <td>3</td>\n",
       "      <td>4</td>\n",
       "    </tr>\n",
       "  </tbody>\n",
       "</table>\n",
       "</div>"
      ],
      "text/plain": [
       "      name  time   ticks  sol_nodes  gap  time_lim  nodes  edges  cnnct_cmp  \\\n",
       "0  gnp_000  0.39   99.51       69.0  0.0     False    100    508          1   \n",
       "1  gnp_001  0.45  100.66       68.0  0.0     False    100    484          1   \n",
       "2  gnp_002  0.52  138.64       69.0  0.0     False    100    487          1   \n",
       "\n",
       "   avg_clust  std_dev_clust  radius  diameter  \n",
       "0   0.113342       0.053480       3         4  \n",
       "1   0.097705       0.047745       3         4  \n",
       "2   0.083568       0.043205       3         4  "
      ]
     },
     "execution_count": 10,
     "metadata": {},
     "output_type": "execute_result"
    }
   ],
   "source": [
    "gnp_data = pd.read_csv('data/gnp.csv')\n",
    "bag_data = pd.read_csv('data/bag.csv')\n",
    "rrg_data = pd.read_csv('data/rrg.csv')\n",
    "wsg_data = pd.read_csv('data/wsg.csv')\n",
    "gnp_data.head(3)"
   ]
  },
  {
   "cell_type": "markdown",
   "id": "ac274bc1",
   "metadata": {},
   "source": [
    "## Erdős–Rényi graphs\n",
    "This chapter reports a detailed analysis of a particular subset of graphs named Erdős–Rényi graphs (also known as binomial graphs) generated using the `gnp_random_graph()` method of the Networkx package. With this method, the inclusion of each edge of the graph depends on a parametric probability *p*, indipendent from every other edge of the graph. "
   ]
  },
  {
   "cell_type": "markdown",
   "id": "b09e84a9",
   "metadata": {},
   "source": [
    "First of all, plot the correlation between the solution time (y axis) versus the average clustering index of the graph (x axis). Graphs with different sizes are labeled with different colors. "
   ]
  },
  {
   "cell_type": "code",
   "execution_count": 25,
   "id": "7738f458",
   "metadata": {},
   "outputs": [
    {
     "data": {
      "image/png": "[encoded data removed]",
      "text/plain": [
       "<Figure size 432x288 with 1 Axes>"
      ]
     },
     "metadata": {
      "needs_background": "light"
     },
     "output_type": "display_data"
    }
   ],
   "source": [
    "for i in range(len(pa.GNP_N)):\n",
    "    filter = gnp_data['nodes']==pa.GNP_N[i]\n",
    "    data = gnp_data[filter]\n",
    "    plt.scatter(data['avg_clust'], data['time'], label=str(pa.GNP_N[i]))\n",
    "plt.legend(loc=\"upper right\")\n",
    "plt.show()"
   ]
  },
  {
   "cell_type": "markdown",
   "id": "4c7f6395",
   "metadata": {},
   "source": [
    "Try to find a correlation plotting together the size of the problem, the average clustering coefficient of the graph (x and y axis) and the solution time."
   ]
  },
  {
   "cell_type": "code",
   "execution_count": 29,
   "id": "e95cebf6",
   "metadata": {},
   "outputs": [
    {
     "data": {
      "image/png": "[encoded data removed]",
      "text/plain": [
       "<Figure size 432x288 with 1 Axes>"
      ]
     },
     "metadata": {
      "needs_background": "light"
     },
     "output_type": "display_data"
    }
   ],
   "source": [
    "ax = plt.axes(projection='3d')\n",
    "zdata = gnp_data['time']\n",
    "xdata = gnp_data['nodes']\n",
    "ydata = gnp_data['avg_clust']\n",
    "ax.scatter3D(xdata, ydata, zdata);"
   ]
  },
  {
   "cell_type": "markdown",
   "id": "68298f0a",
   "metadata": {},
   "source": [
    "## Regular graphs\n"
   ]
  }
 ],
 "metadata": {
  "kernelspec": {
   "display_name": "Python 3",
   "language": "python",
   "name": "python3"
  },
  "language_info": {
   "codemirror_mode": {
    "name": "ipython",
    "version": 3
   },
   "file_extension": ".py",
   "mimetype": "text/x-python",
   "name": "python",
   "nbconvert_exporter": "python",
   "pygments_lexer": "ipython3",
   "version": "3.7.10"
  }
 },
 "nbformat": 4,
 "nbformat_minor": 5
}
